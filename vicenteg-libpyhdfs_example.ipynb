{
 "cells": [
  {
   "cell_type": "code",
   "execution_count": 1,
   "metadata": {
    "collapsed": true
   },
   "outputs": [],
   "source": [
    "import pyhdfs"
   ]
  },
  {
   "cell_type": "code",
   "execution_count": 2,
   "metadata": {
    "collapsed": true
   },
   "outputs": [],
   "source": [
    "# When built against MapR, we will discover the configuration automatically.\n",
    "# So use dummy values for the Namenode host and port.\n",
    "fs = pyhdfs.connect(\"\", -1)"
   ]
  },
  {
   "cell_type": "code",
   "execution_count": 3,
   "metadata": {
    "collapsed": true
   },
   "outputs": [],
   "source": [
    "# Open a file on MapR FS for writing.\n",
    "f = pyhdfs.open(fs, \"/tmp/hello.txt\", \"w\")"
   ]
  },
  {
   "cell_type": "code",
   "execution_count": 4,
   "metadata": {
    "collapsed": false
   },
   "outputs": [
    {
     "data": {
      "text/plain": [
       "True"
      ]
     },
     "execution_count": 4,
     "metadata": {},
     "output_type": "execute_result"
    }
   ],
   "source": [
    "# Write a little data, close the file and \"disconnect\".\n",
    "pyhdfs.write(fs, f, \"Hello from pyhdfs!\")\n",
    "pyhdfs.close(fs, f)\n",
    "pyhdfs.disconnect(fs)"
   ]
  },
  {
   "cell_type": "code",
   "execution_count": 5,
   "metadata": {
    "collapsed": false
   },
   "outputs": [
    {
     "name": "stdout",
     "output_type": "stream",
     "text": [
      "Hello from pyhdfs!\n"
     ]
    }
   ],
   "source": [
    "# Now reconnect, and let's get the data we wrote.\n",
    "fs = pyhdfs.connect(\"\", -1)\n",
    "f = pyhdfs.open(fs, \"/tmp/hello.txt\", \"r\")\n",
    "print pyhdfs.read(fs, f)"
   ]
  },
  {
   "cell_type": "code",
   "execution_count": null,
   "metadata": {
    "collapsed": true
   },
   "outputs": [],
   "source": []
  }
 ],
 "metadata": {
  "kernelspec": {
   "display_name": "Python 2",
   "language": "python",
   "name": "python2"
  },
  "language_info": {
   "codemirror_mode": {
    "name": "ipython",
    "version": 2
   },
   "file_extension": ".py",
   "mimetype": "text/x-python",
   "name": "python",
   "nbconvert_exporter": "python",
   "pygments_lexer": "ipython2",
   "version": "2.7.8"
  }
 },
 "nbformat": 4,
 "nbformat_minor": 0
}
